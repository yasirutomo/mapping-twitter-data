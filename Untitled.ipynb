{
 "cells": [
  {
   "cell_type": "code",
   "execution_count": 1,
   "metadata": {},
   "outputs": [
    {
     "data": {
      "text/html": [
       "<div>\n",
       "<style scoped>\n",
       "    .dataframe tbody tr th:only-of-type {\n",
       "        vertical-align: middle;\n",
       "    }\n",
       "\n",
       "    .dataframe tbody tr th {\n",
       "        vertical-align: top;\n",
       "    }\n",
       "\n",
       "    .dataframe thead th {\n",
       "        text-align: right;\n",
       "    }\n",
       "</style>\n",
       "<table border=\"1\" class=\"dataframe\">\n",
       "  <thead>\n",
       "    <tr style=\"text-align: right;\">\n",
       "      <th></th>\n",
       "      <th>id</th>\n",
       "      <th>datecreated</th>\n",
       "      <th>username</th>\n",
       "      <th>text</th>\n",
       "      <th>lang</th>\n",
       "      <th>location</th>\n",
       "      <th>lat</th>\n",
       "      <th>lng</th>\n",
       "    </tr>\n",
       "  </thead>\n",
       "  <tbody>\n",
       "    <tr>\n",
       "      <th>0</th>\n",
       "      <td>918946229207232512</td>\n",
       "      <td>Fri Oct 13 21:07:08 +0000 2017</td>\n",
       "      <td>PHarmonni</td>\n",
       "      <td>Full -&amp;gt; https://t.co/z52kPQm0kX 🎬 Sinopsis ...</td>\n",
       "      <td>in</td>\n",
       "      <td>-</td>\n",
       "      <td>-7.145914</td>\n",
       "      <td>111.886947</td>\n",
       "    </tr>\n",
       "    <tr>\n",
       "      <th>1</th>\n",
       "      <td>918946373306904576</td>\n",
       "      <td>Fri Oct 13 21:07:43 +0000 2017</td>\n",
       "      <td>CHICKSTOREinc</td>\n",
       "      <td>. SHORT CARGO ● CODE: Just&amp;amp;Co White ● PRIC...</td>\n",
       "      <td>in</td>\n",
       "      <td>-</td>\n",
       "      <td>-6.193907</td>\n",
       "      <td>106.764772</td>\n",
       "    </tr>\n",
       "    <tr>\n",
       "      <th>2</th>\n",
       "      <td>918946532904271873</td>\n",
       "      <td>Fri Oct 13 21:08:21 +0000 2017</td>\n",
       "      <td>dimanamacetid</td>\n",
       "      <td>[04:05] #PASURUAN Pasar Ngopak #LANCAR #TMC</td>\n",
       "      <td>in</td>\n",
       "      <td>-</td>\n",
       "      <td>-7.699106</td>\n",
       "      <td>112.975462</td>\n",
       "    </tr>\n",
       "    <tr>\n",
       "      <th>3</th>\n",
       "      <td>918946534678515712</td>\n",
       "      <td>Fri Oct 13 21:08:21 +0000 2017</td>\n",
       "      <td>dimanamacetid</td>\n",
       "      <td>[04:07] #JAKARTA Tol Ulujami - Pd. Ranji - Ser...</td>\n",
       "      <td>in</td>\n",
       "      <td>-</td>\n",
       "      <td>-6.241682</td>\n",
       "      <td>106.758682</td>\n",
       "    </tr>\n",
       "    <tr>\n",
       "      <th>4</th>\n",
       "      <td>918946582711754752</td>\n",
       "      <td>Fri Oct 13 21:08:33 +0000 2017</td>\n",
       "      <td>CHICKSTOREinc</td>\n",
       "      <td>. SHORT CARGO ● CODE: Just&amp;amp;Co Grey Old ● P...</td>\n",
       "      <td>in</td>\n",
       "      <td>-</td>\n",
       "      <td>-6.193907</td>\n",
       "      <td>106.764772</td>\n",
       "    </tr>\n",
       "  </tbody>\n",
       "</table>\n",
       "</div>"
      ],
      "text/plain": [
       "                   id                     datecreated       username  \\\n",
       "0  918946229207232512  Fri Oct 13 21:07:08 +0000 2017      PHarmonni   \n",
       "1  918946373306904576  Fri Oct 13 21:07:43 +0000 2017  CHICKSTOREinc   \n",
       "2  918946532904271873  Fri Oct 13 21:08:21 +0000 2017  dimanamacetid   \n",
       "3  918946534678515712  Fri Oct 13 21:08:21 +0000 2017  dimanamacetid   \n",
       "4  918946582711754752  Fri Oct 13 21:08:33 +0000 2017  CHICKSTOREinc   \n",
       "\n",
       "                                                text lang location       lat  \\\n",
       "0  Full -&gt; https://t.co/z52kPQm0kX 🎬 Sinopsis ...   in        - -7.145914   \n",
       "1  . SHORT CARGO ● CODE: Just&amp;Co White ● PRIC...   in        - -6.193907   \n",
       "2        [04:05] #PASURUAN Pasar Ngopak #LANCAR #TMC   in        - -7.699106   \n",
       "3  [04:07] #JAKARTA Tol Ulujami - Pd. Ranji - Ser...   in        - -6.241682   \n",
       "4  . SHORT CARGO ● CODE: Just&amp;Co Grey Old ● P...   in        - -6.193907   \n",
       "\n",
       "          lng  \n",
       "0  111.886947  \n",
       "1  106.764772  \n",
       "2  112.975462  \n",
       "3  106.758682  \n",
       "4  106.764772  "
      ]
     },
     "metadata": {},
     "output_type": "display_data"
    },
    {
     "name": "stdout",
     "output_type": "stream",
     "text": [
      "<class 'pandas.core.frame.DataFrame'>\n",
      "RangeIndex: 12065 entries, 0 to 12064\n",
      "Data columns (total 8 columns):\n",
      "id             12065 non-null int64\n",
      "datecreated    12065 non-null object\n",
      "username       12065 non-null object\n",
      "text           12065 non-null object\n",
      "lang           12065 non-null object\n",
      "location       12065 non-null object\n",
      "lat            12065 non-null float64\n",
      "lng            12065 non-null float64\n",
      "dtypes: float64(2), int64(1), object(5)\n",
      "memory usage: 754.1+ KB\n"
     ]
    },
    {
     "data": {
      "text/plain": [
       "None"
      ]
     },
     "metadata": {},
     "output_type": "display_data"
    }
   ],
   "source": [
    "# Import the necessary libraries\n",
    "import pandas as pd\n",
    "import gmplot\n",
    "# For improved table display in the notebook\n",
    "from IPython.display import display\n",
    "\n",
    "raw_data = pd.read_csv(\"geotagged/stream_datatest14oktober2017.csv\")\n",
    "\n",
    "# Success! Display the first 5 rows of the dataset\n",
    "display(raw_data.head(n=5))\n",
    "display(raw_data.info())"
   ]
  },
  {
   "cell_type": "code",
   "execution_count": null,
   "metadata": {},
   "outputs": [],
   "source": []
  }
 ],
 "metadata": {
  "kernelspec": {
   "display_name": "Python 3",
   "language": "python",
   "name": "python3"
  },
  "language_info": {
   "codemirror_mode": {
    "name": "ipython",
    "version": 3
   },
   "file_extension": ".py",
   "mimetype": "text/x-python",
   "name": "python",
   "nbconvert_exporter": "python",
   "pygments_lexer": "ipython3",
   "version": "3.6.5"
  }
 },
 "nbformat": 4,
 "nbformat_minor": 2
}
